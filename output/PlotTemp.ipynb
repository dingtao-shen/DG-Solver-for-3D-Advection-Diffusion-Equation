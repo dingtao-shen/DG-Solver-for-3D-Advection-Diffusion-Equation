{
 "cells": [
  {
   "cell_type": "code",
   "execution_count": null,
   "metadata": {},
   "outputs": [],
   "source": [
    "import matplotlib as mpl\n",
    "mpl.use('Agg')\n",
    "\n",
    "import numpy as np\n",
    "import matplotlib.pyplot as plt\n",
    "import matplotlib.patches as patches\n",
    "\n",
    "mpl.rcParams['font.family'] = 'serif'\n",
    "mpl.rcParams['font.serif'] = 'stixGeneral'\n",
    "mpl.rcParams['mathtext.fontset'] = 'stix'"
   ]
  },
  {
   "cell_type": "code",
   "execution_count": 9,
   "metadata": {},
   "outputs": [
    {
     "data": {
      "text/plain": [
       "np.float64(284.3302873516868)"
      ]
     },
     "execution_count": 9,
     "metadata": {},
     "output_type": "execute_result"
    }
   ],
   "source": [
    "dT = 1.0\n",
    "dLx = 0.5e-6\n",
    "qy = []\n",
    "filename = 'output_2D.txt'\n",
    "data = np.loadtxt(filename, skiprows = 1)\n",
    "Qx = data[:, 3]\n",
    "k = Qx.mean() * dLx / dT * (1.56232859 * 3.0 * 5.89141331 * 5.89141331 / 1.5) / 3.35 * 1.0e7\n",
    "k"
   ]
  },
  {
   "cell_type": "code",
   "execution_count": 12,
   "metadata": {},
   "outputs": [
    {
     "name": "stdout",
     "output_type": "stream",
     "text": [
      "(80000, 5)\n"
     ]
    }
   ],
   "source": [
    "fig = plt.figure(figsize=[6.5,4])\n",
    "ax = fig.add_subplot(111)\n",
    "plt.gca().set_aspect('equal')\n",
    "\n",
    "data1 = np.loadtxt(filename, skiprows = 1)\n",
    "print (data1.shape)\n",
    "X = data1[:,0]\n",
    "Y = data1[:,1]\n",
    "T = data1[:,2]\n",
    "U = data1[:,3]\n",
    "V = data1[:,4]\n",
    "\n",
    "Nx = 400\n",
    "Ny = 200\n",
    "\n",
    "Xgrid = np.zeros((Ny,Nx))\n",
    "Ygrid = np.zeros((Ny,Nx))\n",
    "Tgrid = np.zeros((Ny,Nx))\n",
    "Ugrid = np.zeros((Ny,Nx))\n",
    "Vgrid = np.zeros((Ny,Nx))\n",
    "\n",
    "for j in range(0,Ny):\n",
    "\tfor i in range (0,Nx):\n",
    "\t\tXgrid[j,i] = X[i+j*Nx]\n",
    "\t\tYgrid[j,i] = Y[i+j*Nx]\n",
    "\t\tTgrid[j,i] = T[i+j*Nx]\n",
    "\t\tUgrid[j,i] = U[i+j*Nx]\n",
    "\t\tVgrid[j,i] = V[i+j*Nx]\n",
    "\t\tif Tgrid[j,i] == 0:\n",
    "\t\t\tTgrid[j,i] = np.nan\n",
    "\n",
    "c = plt.contourf(Xgrid,Ygrid,Tgrid,np.linspace(-0.002 , 0.002, 51),cmap='plasma')\n",
    "\n",
    "\n",
    "\n",
    "plt.axis([0, 2.0, 0, 1.0])\n",
    "ax.tick_params(axis='both',labelsize=24)\n",
    "ax.set_xticks([])\n",
    "ax.set_yticks([])\n",
    "\n",
    "\n",
    "plt.tight_layout()\n",
    "plt.subplots_adjust(left=0.01, right=0.75, top=0.98, bottom=0.02,wspace=0.28)\n",
    "plt.savefig('2d_temp.pdf')"
   ]
  }
 ],
 "metadata": {
  "kernelspec": {
   "display_name": "Python 3",
   "language": "python",
   "name": "python3"
  },
  "language_info": {
   "codemirror_mode": {
    "name": "ipython",
    "version": 3
   },
   "file_extension": ".py",
   "mimetype": "text/x-python",
   "name": "python",
   "nbconvert_exporter": "python",
   "pygments_lexer": "ipython3",
   "version": "3.10.12"
  }
 },
 "nbformat": 4,
 "nbformat_minor": 2
}
